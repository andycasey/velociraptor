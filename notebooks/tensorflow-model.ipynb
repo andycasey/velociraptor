{
 "cells": [
  {
   "cell_type": "code",
   "execution_count": 1,
   "metadata": {},
   "outputs": [
    {
     "name": "stderr",
     "output_type": "stream",
     "text": [
      "/Users/arc/anaconda2/envs/py3/lib/python3.6/site-packages/h5py/__init__.py:36: FutureWarning: Conversion of the second argument of issubdtype from `float` to `np.floating` is deprecated. In future, it will be treated as `np.float64 == np.dtype(float).type`.\n",
      "  from ._conv import register_converters as _register_converters\n",
      "../velociraptor.py:35: RuntimeWarning: invalid value encountered in log10\n",
      "  + 5 * np.log10(sources[\"parallax\"]/100.0)\n",
      "WARNING:root:Excluding non-finite entries in design matrix! Number of data points: 10000\n"
     ]
    }
   ],
   "source": [
    "import numpy as np\n",
    "import tensorflow as tf\n",
    "import matplotlib.pyplot as plt\n",
    "import sys\n",
    "sys.path.insert(0, \"../\") # don't do this.\n",
    "%matplotlib inline\n",
    "\n",
    "import velociraptor\n",
    "\n",
    "sources = velociraptor.load_gaia_sources(\"../data/rv-all.fits\")\n",
    "data_dict, idx = velociraptor.prepare_data(S=1e4, **sources)\n",
    "\n",
    "init_dict = dict(theta=0.5,\n",
    "    mu_coefficients=[2.1465e-05, 1.4585e+02, 2.0827e+11, 7.7332e-08, 5.8626e+00],\n",
    "    sigma_coefficients=[7.4405e-04, 3.9762e-01, 1.7293e+11, 4.1103e-04, 5.9489e+00]\n",
    ")"
   ]
  },
  {
   "cell_type": "code",
   "execution_count": 2,
   "metadata": {
    "collapsed": true
   },
   "outputs": [],
   "source": [
    "theta = tf.clip_by_value(tf.Variable(0.5, dtype=tf.float64), 0, 1)\n",
    "mu_coefficients = tf.clip_by_value(\n",
    "    tf.Variable(np.atleast_2d(init_dict[\"mu_coefficients\"]), dtype=tf.float64),\n",
    "    0, np.inf)\n",
    "sigma_coefficients = tf.clip_by_value(\n",
    "    tf.Variable(np.atleast_2d(init_dict[\"sigma_coefficients\"]), dtype=tf.float64),\n",
    "    0, np.inf)\n",
    "\n",
    "mu = tf.matmul(mu_coefficients, data_dict[\"design_matrix\"].T)\n",
    "ivar = tf.matmul(sigma_coefficients, data_dict[\"design_matrix\"].T)**-2\n",
    "\n",
    "log_p_s = tf.log(1.0 - theta) \\\n",
    "        - 0.5 * np.log(2 * np.pi) + 0.5 * tf.log(ivar) \\\n",
    "        - 0.5 * (data_dict[\"rv_variance\"] - mu)**2 * ivar\n",
    "\n",
    "log_p_b = tf.log(theta) \\\n",
    "        - np.log(np.max(data_dict[\"rv_variance\"])) * np.ones((1, data_dict[\"N\"]))\n",
    "\n",
    "log_prob = tf.reduce_sum(tf.reduce_logsumexp(tf.concat([log_p_s, log_p_b], 0), 0))"
   ]
  },
  {
   "cell_type": "code",
   "execution_count": 3,
   "metadata": {
    "collapsed": true
   },
   "outputs": [],
   "source": [
    "tolerance = 1e-6\n",
    "learning_rate = 1e-3\n",
    "max_iterations = 100000\n",
    "\n",
    "training_step = tf.train.AdamOptimizer(learning_rate).minimize(-log_prob)\n",
    "\n",
    "cost_history = np.empty(shape=[1],dtype=float)"
   ]
  },
  {
   "cell_type": "code",
   "execution_count": 4,
   "metadata": {},
   "outputs": [
    {
     "name": "stdout",
     "output_type": "stream",
     "text": [
      "Initial log prob: -53428.141043139636\n",
      "Initial gradient: [-13565.623649522307, array([[-8.64751323e+01, -1.82355052e-04, -9.84648572e-10,\n",
      "        -4.80992815e+01, -9.34671405e+00]]), array([[-1.35529300e+02, -5.54319181e-04, -2.31966095e-09,\n",
      "        -1.04270831e+02, -6.00516756e+01]])]\n",
      "0 -53414.380196414844 0.49899999995252586\n",
      "1000 -50738.25275680636 0.14123911383958843\n",
      "2000 -50731.54427557549 0.13781589090020419\n",
      "3000 -50731.098023872815 0.1368543226858839\n"
     ]
    }
   ],
   "source": [
    "with tf.Session() as session:\n",
    "    session = tf.Session()\n",
    "    session.run(tf.global_variables_initializer())\n",
    "\n",
    "    print(\"Initial log prob: {0}\".format(session.run(log_prob)))\n",
    "    print(\"Initial gradient: {0}\".format(\n",
    "        session.run(tf.gradients(log_prob, \n",
    "                                [theta, mu_coefficients, sigma_coefficients]))))\n",
    "\n",
    "    for iteration in range(max_iterations):\n",
    "        session.run(training_step)\n",
    "        cost_history = np.append(cost_history, session.run(log_prob))\n",
    "        \n",
    "        if iteration % 1000 < 1:\n",
    "            print(iteration, cost_history[-1], session.run(theta))\n",
    "        \n",
    "        if np.abs(np.diff(cost_history[-2:])) < tolerance:\n",
    "            break\n",
    "\n",
    "    theta_value = session.run(theta)\n",
    "    mu_coefficients_value = session.run(mu_coefficients)\n",
    "    sigma_coefficients_value = session.run(sigma_coefficients)\n"
   ]
  },
  {
   "cell_type": "code",
   "execution_count": 5,
   "metadata": {},
   "outputs": [
    {
     "data": {
      "text/plain": [
       "[<matplotlib.lines.Line2D at 0x124fc4518>]"
      ]
     },
     "execution_count": 5,
     "metadata": {},
     "output_type": "execute_result"
    },
    {
     "data": {
      "image/png": "[encoded data removed]",
      "text/plain": [
       "<matplotlib.figure.Figure at 0x125161c50>"
      ]
     },
     "metadata": {},
     "output_type": "display_data"
    }
   ],
   "source": [
    "%matplotlib inline\n",
    "fig, ax = plt.subplots()\n",
    "ax.plot(cost_history[1:])"
   ]
  },
  {
   "cell_type": "code",
   "execution_count": 8,
   "metadata": {
    "collapsed": true
   },
   "outputs": [],
   "source": [
    "phot_rp_mean_flux = np.logspace(np.log10(np.nanmin(sources[\"phot_rp_mean_flux\"])),\n",
    "                                np.log10(np.nanmax(sources[\"phot_rp_mean_flux\"])),\n",
    "                                100)\n",
    "\n",
    "faux_dm = velociraptor._rvf_design_matrix(phot_rp_mean_flux=phot_rp_mean_flux,\n",
    "                                          bp_rp=np.nanmean(sources[\"bp_rp\"]) * np.ones(100))\n",
    "mu = np.dot(mu_coefficients_value, faux_dm)[0]\n",
    "sigma = np.dot(sigma_coefficients_value, faux_dm)[0]\n"
   ]
  },
  {
   "cell_type": "code",
   "execution_count": 13,
   "metadata": {},
   "outputs": [
    {
     "data": {
      "text/plain": [
       "<matplotlib.text.Text at 0x12bda61d0>"
      ]
     },
     "execution_count": 13,
     "metadata": {},
     "output_type": "execute_result"
    },
    {
     "data": {
      "image/png": "[encoded data removed]",
      "text/plain": [
       "<matplotlib.figure.Figure at 0x12befa3c8>"
      ]
     },
     "metadata": {},
     "output_type": "display_data"
    }
   ],
   "source": [
    "fig, ax = plt.subplots(figsize=(8, 8))\n",
    "ax.plot(phot_rp_mean_flux, mu, c='r', lw=2)\n",
    "ax.fill_between(phot_rp_mean_flux,\n",
    "                mu - sigma, mu + sigma,\n",
    "                facecolor=\"r\", alpha=0.3, edgecolor=\"none\")\n",
    "ax.semilogx()\n",
    "ax.set_xlabel(r\"\\textrm{phot rp mean flux}\")\n",
    "ax.set_ylabel(r\"\\textrm{radial velocity variance}\")"
   ]
  },
  {
   "cell_type": "code",
   "execution_count": 14,
   "metadata": {
    "collapsed": true
   },
   "outputs": [],
   "source": [
    "# Construct model for hemcee\n",
    "\n",
    "class TensorFlowModel(object):\n",
    "    \n",
    "    def __init__(self, target, variable_list, feed_dict=None, session=None):\n",
    "        self.target = target\n",
    "        self.variable_list = variable_list\n",
    "        self.grad_target = tf.gradients(self.target, self.variable_list)\n",
    "        self.feed_dict = dict() if feed_dict is None else feed_dict\n",
    "        self._session = session\n",
    "    \n",
    "    @property\n",
    "    def session(self):\n",
    "        if self._session is None:\n",
    "            return tf.get_default_session()\n",
    "        return self._session\n",
    "\n",
    "    def value(self, vector):\n",
    "        feed_dict = self.vector_to_feed_dict(vector)\n",
    "        return self.session.run(self.target, feed_dict=feed_dict)\n",
    "    \n",
    "    def gradient(self, vector):\n",
    "        feed_dict = self.vector_to_feed_dict(vector)\n",
    "        return np.concatenate([np.reshape(g, s) \\\n",
    "            for g, s in zip(\n",
    "                self.sizes,\n",
    "                self.session.run(self.grad_target, feed_dict=feed_dict))\n",
    "        ])\n",
    "\n",
    "    def setup(self, session=None):\n",
    "        if session is not None:\n",
    "            self._session = session\n",
    "        values = self.session.run(self.variable_list)\n",
    "        self.sizes = [np.size(v) for v in values]\n",
    "        self.shapes = [np.shape(v) for v in values]\n",
    "    \n",
    "    def vector_to_feed_dict(self, vector):\n",
    "        i = 0\n",
    "        fd = dict(self.feed_dict)\n",
    "        for var, size, shape \\\n",
    "        in zip(self.variable_list, self.sizes, self.shapes):\n",
    "            fd[var] = np.reshape(vector[i:i+size], shape)\n",
    "            i += size\n",
    "        return fd\n",
    "    \n",
    "    def feed_dict_to_vector(self, feed_dict):\n",
    "        return np.concatenate([\n",
    "            np.reshape(feed_dict[v], s)\n",
    "            for v, s in zip(self.variable_list, self.sizes)])\n",
    "\n",
    "    def current_vector(self):\n",
    "        values = self.session.run(self.variable_list)\n",
    "        return np.concatenate([\n",
    "            np.reshape(v, s)\n",
    "            for v, s in zip(values, self.sizes)])"
   ]
  },
  {
   "cell_type": "code",
   "execution_count": null,
   "metadata": {
    "collapsed": true
   },
   "outputs": [],
   "source": []
  }
 ],
 "metadata": {
  "kernelspec": {
   "display_name": "Python (py3)",
   "language": "python",
   "name": "py3"
  },
  "language_info": {
   "codemirror_mode": {
    "name": "ipython",
    "version": 3
   },
   "file_extension": ".py",
   "mimetype": "text/x-python",
   "name": "python",
   "nbconvert_exporter": "python",
   "pygments_lexer": "ipython3",
   "version": "3.6.1"
  }
 },
 "nbformat": 4,
 "nbformat_minor": 2
}
